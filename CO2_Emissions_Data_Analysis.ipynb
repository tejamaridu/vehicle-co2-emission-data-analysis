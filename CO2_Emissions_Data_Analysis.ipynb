{
 "cells": [
  {
   "cell_type": "markdown",
   "id": "ee488c32",
   "metadata": {},
   "source": [
    "# DAB103_Project1_Group7\n",
    "\n",
    "## Source link -\n",
    "https://www.kaggle.com/debajyotipodder/co2-emission-by-vehicles?select=CO2+Emissions_Canada.csv"
   ]
  },
  {
   "cell_type": "markdown",
   "id": "cbff0c21",
   "metadata": {},
   "source": [
    "# **Importing Libraries**"
   ]
  },
  {
   "cell_type": "code",
   "execution_count": 2,
   "id": "cf2aa18e",
   "metadata": {},
   "outputs": [],
   "source": [
    "import os\n",
    "import pandas as pd\n",
    "import matplotlib.pyplot as plt\n",
    "import seaborn as sns\n",
    "import missingno as msno"
   ]
  },
  {
   "cell_type": "markdown",
   "id": "f24c4f15",
   "metadata": {},
   "source": [
    "# **Changing Directory and importing dataset**"
   ]
  },
  {
   "cell_type": "code",
   "execution_count": 57,
   "id": "f98ab03b",
   "metadata": {},
   "outputs": [],
   "source": [
    "path = 'D:\\DAB\\DAB-103 Analytic tools and decision making\\Project\\Proj1'\n",
    "os.chdir(path)\n",
    "\n",
    "Co2_Emissions_Data = pd.read_csv(\"CO2 Emissions_Canada.csv\")"
   ]
  },
  {
   "cell_type": "markdown",
   "id": "84212725",
   "metadata": {},
   "source": [
    "# **The Shape of the dataset is as follow**"
   ]
  },
  {
   "cell_type": "code",
   "execution_count": 58,
   "id": "90b97634",
   "metadata": {},
   "outputs": [
    {
     "data": {
      "text/plain": [
       "(7385, 12)"
      ]
     },
     "execution_count": 58,
     "metadata": {},
     "output_type": "execute_result"
    }
   ],
   "source": [
    "Co2_Emissions_Data.shape"
   ]
  },
  {
   "cell_type": "markdown",
   "id": "c9caa2dc",
   "metadata": {},
   "source": [
    "\n",
    "The imported dataset has 7385 Rows and 12 Columns."
   ]
  },
  {
   "cell_type": "markdown",
   "id": "8b5bcb79",
   "metadata": {},
   "source": [
    "# **We are viewing the first few rows of dataset**"
   ]
  },
  {
   "cell_type": "code",
   "execution_count": 6,
   "id": "18ca5e45",
   "metadata": {},
   "outputs": [
    {
     "data": {
      "text/html": [
       "<div>\n",
       "<style scoped>\n",
       "    .dataframe tbody tr th:only-of-type {\n",
       "        vertical-align: middle;\n",
       "    }\n",
       "\n",
       "    .dataframe tbody tr th {\n",
       "        vertical-align: top;\n",
       "    }\n",
       "\n",
       "    .dataframe thead th {\n",
       "        text-align: right;\n",
       "    }\n",
       "</style>\n",
       "<table border=\"1\" class=\"dataframe\">\n",
       "  <thead>\n",
       "    <tr style=\"text-align: right;\">\n",
       "      <th></th>\n",
       "      <th>Make</th>\n",
       "      <th>Model</th>\n",
       "      <th>Vehicle Class</th>\n",
       "      <th>Engine Size(L)</th>\n",
       "      <th>Cylinders</th>\n",
       "      <th>Transmission</th>\n",
       "      <th>Fuel Type</th>\n",
       "      <th>Fuel Consumption City (L/100 km)</th>\n",
       "      <th>Fuel Consumption Hwy (L/100 km)</th>\n",
       "      <th>Fuel Consumption Comb (L/100 km)</th>\n",
       "      <th>Fuel Consumption Comb (mpg)</th>\n",
       "      <th>CO2 Emissions(g/km)</th>\n",
       "    </tr>\n",
       "  </thead>\n",
       "  <tbody>\n",
       "    <tr>\n",
       "      <th>0</th>\n",
       "      <td>ACURA</td>\n",
       "      <td>ILX</td>\n",
       "      <td>COMPACT</td>\n",
       "      <td>2.0</td>\n",
       "      <td>4</td>\n",
       "      <td>AS5</td>\n",
       "      <td>Z</td>\n",
       "      <td>9.9</td>\n",
       "      <td>6.7</td>\n",
       "      <td>8.5</td>\n",
       "      <td>33</td>\n",
       "      <td>196</td>\n",
       "    </tr>\n",
       "    <tr>\n",
       "      <th>1</th>\n",
       "      <td>ACURA</td>\n",
       "      <td>ILX</td>\n",
       "      <td>COMPACT</td>\n",
       "      <td>2.4</td>\n",
       "      <td>4</td>\n",
       "      <td>M6</td>\n",
       "      <td>Z</td>\n",
       "      <td>11.2</td>\n",
       "      <td>7.7</td>\n",
       "      <td>9.6</td>\n",
       "      <td>29</td>\n",
       "      <td>221</td>\n",
       "    </tr>\n",
       "    <tr>\n",
       "      <th>2</th>\n",
       "      <td>ACURA</td>\n",
       "      <td>ILX HYBRID</td>\n",
       "      <td>COMPACT</td>\n",
       "      <td>1.5</td>\n",
       "      <td>4</td>\n",
       "      <td>AV7</td>\n",
       "      <td>Z</td>\n",
       "      <td>6.0</td>\n",
       "      <td>5.8</td>\n",
       "      <td>5.9</td>\n",
       "      <td>48</td>\n",
       "      <td>136</td>\n",
       "    </tr>\n",
       "    <tr>\n",
       "      <th>3</th>\n",
       "      <td>ACURA</td>\n",
       "      <td>MDX 4WD</td>\n",
       "      <td>SUV - SMALL</td>\n",
       "      <td>3.5</td>\n",
       "      <td>6</td>\n",
       "      <td>AS6</td>\n",
       "      <td>Z</td>\n",
       "      <td>12.7</td>\n",
       "      <td>9.1</td>\n",
       "      <td>11.1</td>\n",
       "      <td>25</td>\n",
       "      <td>255</td>\n",
       "    </tr>\n",
       "    <tr>\n",
       "      <th>4</th>\n",
       "      <td>ACURA</td>\n",
       "      <td>RDX AWD</td>\n",
       "      <td>SUV - SMALL</td>\n",
       "      <td>3.5</td>\n",
       "      <td>6</td>\n",
       "      <td>AS6</td>\n",
       "      <td>Z</td>\n",
       "      <td>12.1</td>\n",
       "      <td>8.7</td>\n",
       "      <td>10.6</td>\n",
       "      <td>27</td>\n",
       "      <td>244</td>\n",
       "    </tr>\n",
       "  </tbody>\n",
       "</table>\n",
       "</div>"
      ],
      "text/plain": [
       "    Make       Model Vehicle Class  Engine Size(L)  Cylinders Transmission  \\\n",
       "0  ACURA         ILX       COMPACT             2.0          4          AS5   \n",
       "1  ACURA         ILX       COMPACT             2.4          4           M6   \n",
       "2  ACURA  ILX HYBRID       COMPACT             1.5          4          AV7   \n",
       "3  ACURA     MDX 4WD   SUV - SMALL             3.5          6          AS6   \n",
       "4  ACURA     RDX AWD   SUV - SMALL             3.5          6          AS6   \n",
       "\n",
       "  Fuel Type  Fuel Consumption City (L/100 km)  \\\n",
       "0         Z                               9.9   \n",
       "1         Z                              11.2   \n",
       "2         Z                               6.0   \n",
       "3         Z                              12.7   \n",
       "4         Z                              12.1   \n",
       "\n",
       "   Fuel Consumption Hwy (L/100 km)  Fuel Consumption Comb (L/100 km)  \\\n",
       "0                              6.7                               8.5   \n",
       "1                              7.7                               9.6   \n",
       "2                              5.8                               5.9   \n",
       "3                              9.1                              11.1   \n",
       "4                              8.7                              10.6   \n",
       "\n",
       "   Fuel Consumption Comb (mpg)  CO2 Emissions(g/km)  \n",
       "0                           33                  196  \n",
       "1                           29                  221  \n",
       "2                           48                  136  \n",
       "3                           25                  255  \n",
       "4                           27                  244  "
      ]
     },
     "execution_count": 6,
     "metadata": {},
     "output_type": "execute_result"
    }
   ],
   "source": [
    "Co2_Emissions_Data.head()"
   ]
  },
  {
   "cell_type": "markdown",
   "id": "35ba27a5",
   "metadata": {},
   "source": [
    "# **Column names and their data types**"
   ]
  },
  {
   "cell_type": "code",
   "execution_count": 7,
   "id": "c9969304",
   "metadata": {},
   "outputs": [
    {
     "name": "stdout",
     "output_type": "stream",
     "text": [
      "<class 'pandas.core.frame.DataFrame'>\n",
      "RangeIndex: 7385 entries, 0 to 7384\n",
      "Data columns (total 12 columns):\n",
      " #   Column                            Non-Null Count  Dtype  \n",
      "---  ------                            --------------  -----  \n",
      " 0   Make                              7385 non-null   object \n",
      " 1   Model                             7385 non-null   object \n",
      " 2   Vehicle Class                     7385 non-null   object \n",
      " 3   Engine Size(L)                    7385 non-null   float64\n",
      " 4   Cylinders                         7385 non-null   int64  \n",
      " 5   Transmission                      7385 non-null   object \n",
      " 6   Fuel Type                         7385 non-null   object \n",
      " 7   Fuel Consumption City (L/100 km)  7385 non-null   float64\n",
      " 8   Fuel Consumption Hwy (L/100 km)   7385 non-null   float64\n",
      " 9   Fuel Consumption Comb (L/100 km)  7385 non-null   float64\n",
      " 10  Fuel Consumption Comb (mpg)       7385 non-null   int64  \n",
      " 11  CO2 Emissions(g/km)               7385 non-null   int64  \n",
      "dtypes: float64(4), int64(3), object(5)\n",
      "memory usage: 692.5+ KB\n"
     ]
    }
   ],
   "source": [
    "Co2_Emissions_Data.info()"
   ]
  },
  {
   "cell_type": "markdown",
   "id": "19da4e4a",
   "metadata": {},
   "source": [
    "# **Summary of statistics of Data**"
   ]
  },
  {
   "cell_type": "code",
   "execution_count": 8,
   "id": "3889d029",
   "metadata": {
    "scrolled": true
   },
   "outputs": [
    {
     "data": {
      "text/html": [
       "<div>\n",
       "<style scoped>\n",
       "    .dataframe tbody tr th:only-of-type {\n",
       "        vertical-align: middle;\n",
       "    }\n",
       "\n",
       "    .dataframe tbody tr th {\n",
       "        vertical-align: top;\n",
       "    }\n",
       "\n",
       "    .dataframe thead th {\n",
       "        text-align: right;\n",
       "    }\n",
       "</style>\n",
       "<table border=\"1\" class=\"dataframe\">\n",
       "  <thead>\n",
       "    <tr style=\"text-align: right;\">\n",
       "      <th></th>\n",
       "      <th>Engine Size(L)</th>\n",
       "      <th>Cylinders</th>\n",
       "      <th>Fuel Consumption City (L/100 km)</th>\n",
       "      <th>Fuel Consumption Hwy (L/100 km)</th>\n",
       "      <th>Fuel Consumption Comb (L/100 km)</th>\n",
       "      <th>Fuel Consumption Comb (mpg)</th>\n",
       "      <th>CO2 Emissions(g/km)</th>\n",
       "    </tr>\n",
       "  </thead>\n",
       "  <tbody>\n",
       "    <tr>\n",
       "      <th>count</th>\n",
       "      <td>7385.000000</td>\n",
       "      <td>7385.000000</td>\n",
       "      <td>7385.000000</td>\n",
       "      <td>7385.000000</td>\n",
       "      <td>7385.000000</td>\n",
       "      <td>7385.000000</td>\n",
       "      <td>7385.000000</td>\n",
       "    </tr>\n",
       "    <tr>\n",
       "      <th>mean</th>\n",
       "      <td>3.160068</td>\n",
       "      <td>5.615030</td>\n",
       "      <td>12.556534</td>\n",
       "      <td>9.041706</td>\n",
       "      <td>10.975071</td>\n",
       "      <td>27.481652</td>\n",
       "      <td>250.584699</td>\n",
       "    </tr>\n",
       "    <tr>\n",
       "      <th>std</th>\n",
       "      <td>1.354170</td>\n",
       "      <td>1.828307</td>\n",
       "      <td>3.500274</td>\n",
       "      <td>2.224456</td>\n",
       "      <td>2.892506</td>\n",
       "      <td>7.231879</td>\n",
       "      <td>58.512679</td>\n",
       "    </tr>\n",
       "    <tr>\n",
       "      <th>min</th>\n",
       "      <td>0.900000</td>\n",
       "      <td>3.000000</td>\n",
       "      <td>4.200000</td>\n",
       "      <td>4.000000</td>\n",
       "      <td>4.100000</td>\n",
       "      <td>11.000000</td>\n",
       "      <td>96.000000</td>\n",
       "    </tr>\n",
       "    <tr>\n",
       "      <th>25%</th>\n",
       "      <td>2.000000</td>\n",
       "      <td>4.000000</td>\n",
       "      <td>10.100000</td>\n",
       "      <td>7.500000</td>\n",
       "      <td>8.900000</td>\n",
       "      <td>22.000000</td>\n",
       "      <td>208.000000</td>\n",
       "    </tr>\n",
       "    <tr>\n",
       "      <th>50%</th>\n",
       "      <td>3.000000</td>\n",
       "      <td>6.000000</td>\n",
       "      <td>12.100000</td>\n",
       "      <td>8.700000</td>\n",
       "      <td>10.600000</td>\n",
       "      <td>27.000000</td>\n",
       "      <td>246.000000</td>\n",
       "    </tr>\n",
       "    <tr>\n",
       "      <th>75%</th>\n",
       "      <td>3.700000</td>\n",
       "      <td>6.000000</td>\n",
       "      <td>14.600000</td>\n",
       "      <td>10.200000</td>\n",
       "      <td>12.600000</td>\n",
       "      <td>32.000000</td>\n",
       "      <td>288.000000</td>\n",
       "    </tr>\n",
       "    <tr>\n",
       "      <th>max</th>\n",
       "      <td>8.400000</td>\n",
       "      <td>16.000000</td>\n",
       "      <td>30.600000</td>\n",
       "      <td>20.600000</td>\n",
       "      <td>26.100000</td>\n",
       "      <td>69.000000</td>\n",
       "      <td>522.000000</td>\n",
       "    </tr>\n",
       "  </tbody>\n",
       "</table>\n",
       "</div>"
      ],
      "text/plain": [
       "       Engine Size(L)    Cylinders  Fuel Consumption City (L/100 km)  \\\n",
       "count     7385.000000  7385.000000                       7385.000000   \n",
       "mean         3.160068     5.615030                         12.556534   \n",
       "std          1.354170     1.828307                          3.500274   \n",
       "min          0.900000     3.000000                          4.200000   \n",
       "25%          2.000000     4.000000                         10.100000   \n",
       "50%          3.000000     6.000000                         12.100000   \n",
       "75%          3.700000     6.000000                         14.600000   \n",
       "max          8.400000    16.000000                         30.600000   \n",
       "\n",
       "       Fuel Consumption Hwy (L/100 km)  Fuel Consumption Comb (L/100 km)  \\\n",
       "count                      7385.000000                       7385.000000   \n",
       "mean                          9.041706                         10.975071   \n",
       "std                           2.224456                          2.892506   \n",
       "min                           4.000000                          4.100000   \n",
       "25%                           7.500000                          8.900000   \n",
       "50%                           8.700000                         10.600000   \n",
       "75%                          10.200000                         12.600000   \n",
       "max                          20.600000                         26.100000   \n",
       "\n",
       "       Fuel Consumption Comb (mpg)  CO2 Emissions(g/km)  \n",
       "count                  7385.000000          7385.000000  \n",
       "mean                     27.481652           250.584699  \n",
       "std                       7.231879            58.512679  \n",
       "min                      11.000000            96.000000  \n",
       "25%                      22.000000           208.000000  \n",
       "50%                      27.000000           246.000000  \n",
       "75%                      32.000000           288.000000  \n",
       "max                      69.000000           522.000000  "
      ]
     },
     "execution_count": 8,
     "metadata": {},
     "output_type": "execute_result"
    }
   ],
   "source": [
    "Co2_Emissions_Data.describe()"
   ]
  },
  {
   "cell_type": "markdown",
   "id": "438e96b2",
   "metadata": {},
   "source": [
    "# **Missing values in data**"
   ]
  },
  {
   "cell_type": "code",
   "execution_count": 9,
   "id": "d62aa48b",
   "metadata": {
    "scrolled": true
   },
   "outputs": [
    {
     "data": {
      "text/plain": [
       "Make                                0\n",
       "Model                               0\n",
       "Vehicle Class                       0\n",
       "Engine Size(L)                      0\n",
       "Cylinders                           0\n",
       "Transmission                        0\n",
       "Fuel Type                           0\n",
       "Fuel Consumption City (L/100 km)    0\n",
       "Fuel Consumption Hwy (L/100 km)     0\n",
       "Fuel Consumption Comb (L/100 km)    0\n",
       "Fuel Consumption Comb (mpg)         0\n",
       "CO2 Emissions(g/km)                 0\n",
       "dtype: int64"
      ]
     },
     "execution_count": 9,
     "metadata": {},
     "output_type": "execute_result"
    }
   ],
   "source": [
    "Co2_Emissions_Data.isnull().sum()"
   ]
  },
  {
   "cell_type": "markdown",
   "id": "7d8c5839",
   "metadata": {},
   "source": [
    "From the above outcome we can say that there are no null values in the dataset"
   ]
  },
  {
   "cell_type": "markdown",
   "id": "f635f702",
   "metadata": {},
   "source": [
    "# **Visualizing that there are no Null values**"
   ]
  },
  {
   "cell_type": "code",
   "execution_count": 11,
   "id": "ac6067ed",
   "metadata": {},
   "outputs": [
    {
     "data": {
      "text/plain": [
       "Text(0, 0.5, 'Number of rows')"
      ]
     },
     "execution_count": 11,
     "metadata": {},
     "output_type": "execute_result"
    },
    {
     "data": {
      "image/png": "[encoded data removed]",
      "text/plain": [
       "<Figure size 720x360 with 3 Axes>"
      ]
     },
     "metadata": {
      "needs_background": "light"
     },
     "output_type": "display_data"
    }
   ],
   "source": [
    "ax = msno.bar(Co2_Emissions_Data, color=\"dodgerblue\", figsize=(10,5), fontsize=12)\n",
    "ax.set_title(\"Plot for displaying null values\",color =\"Darkred\" ,fontsize = 26,loc = \"Left\")\n",
    "plt.xlabel(\"Total number of non-null values within resective column\",fontsize=14,color = \"Darkblue\")\n",
    "plt.ylabel(\"Number of rows\", fontsize=17,color = \"Blue\")\n"
   ]
  },
  {
   "cell_type": "markdown",
   "id": "7085e091",
   "metadata": {},
   "source": [
    "We can infer from the above bar plot that there are no null values in any column as there is no empty space shown in them."
   ]
  },
  {
   "cell_type": "markdown",
   "id": "aacece09",
   "metadata": {},
   "source": [
    "# **Duplicate Values**\n",
    "\n",
    "### Count of duplicated rows"
   ]
  },
  {
   "cell_type": "code",
   "execution_count": 12,
   "id": "447869ce",
   "metadata": {},
   "outputs": [
    {
     "data": {
      "text/plain": [
       "1103"
      ]
     },
     "execution_count": 12,
     "metadata": {},
     "output_type": "execute_result"
    }
   ],
   "source": [
    "Co2_Emissions_Data.duplicated().sum()"
   ]
  },
  {
   "cell_type": "markdown",
   "id": "98834eca",
   "metadata": {},
   "source": [
    "### Rows which are duplicated in dataset"
   ]
  },
  {
   "cell_type": "code",
   "execution_count": 13,
   "id": "a531ecb9",
   "metadata": {
    "scrolled": true
   },
   "outputs": [
    {
     "data": {
      "text/html": [
       "<div>\n",
       "<style scoped>\n",
       "    .dataframe tbody tr th:only-of-type {\n",
       "        vertical-align: middle;\n",
       "    }\n",
       "\n",
       "    .dataframe tbody tr th {\n",
       "        vertical-align: top;\n",
       "    }\n",
       "\n",
       "    .dataframe thead th {\n",
       "        text-align: right;\n",
       "    }\n",
       "</style>\n",
       "<table border=\"1\" class=\"dataframe\">\n",
       "  <thead>\n",
       "    <tr style=\"text-align: right;\">\n",
       "      <th></th>\n",
       "      <th>Make</th>\n",
       "      <th>Model</th>\n",
       "      <th>Vehicle Class</th>\n",
       "      <th>Engine Size(L)</th>\n",
       "      <th>Cylinders</th>\n",
       "      <th>Transmission</th>\n",
       "      <th>Fuel Type</th>\n",
       "      <th>Fuel Consumption City (L/100 km)</th>\n",
       "      <th>Fuel Consumption Hwy (L/100 km)</th>\n",
       "      <th>Fuel Consumption Comb (L/100 km)</th>\n",
       "      <th>Fuel Consumption Comb (mpg)</th>\n",
       "      <th>CO2 Emissions(g/km)</th>\n",
       "    </tr>\n",
       "  </thead>\n",
       "  <tbody>\n",
       "    <tr>\n",
       "      <th>1075</th>\n",
       "      <td>ACURA</td>\n",
       "      <td>RDX AWD</td>\n",
       "      <td>SUV - SMALL</td>\n",
       "      <td>3.5</td>\n",
       "      <td>6</td>\n",
       "      <td>AS6</td>\n",
       "      <td>Z</td>\n",
       "      <td>12.1</td>\n",
       "      <td>8.7</td>\n",
       "      <td>10.6</td>\n",
       "      <td>27</td>\n",
       "      <td>244</td>\n",
       "    </tr>\n",
       "    <tr>\n",
       "      <th>1076</th>\n",
       "      <td>ACURA</td>\n",
       "      <td>RLX</td>\n",
       "      <td>MID-SIZE</td>\n",
       "      <td>3.5</td>\n",
       "      <td>6</td>\n",
       "      <td>AS6</td>\n",
       "      <td>Z</td>\n",
       "      <td>11.9</td>\n",
       "      <td>7.7</td>\n",
       "      <td>10.0</td>\n",
       "      <td>28</td>\n",
       "      <td>230</td>\n",
       "    </tr>\n",
       "    <tr>\n",
       "      <th>1081</th>\n",
       "      <td>ALFA ROMEO</td>\n",
       "      <td>4C</td>\n",
       "      <td>TWO-SEATER</td>\n",
       "      <td>1.8</td>\n",
       "      <td>4</td>\n",
       "      <td>AM6</td>\n",
       "      <td>Z</td>\n",
       "      <td>9.7</td>\n",
       "      <td>6.9</td>\n",
       "      <td>8.4</td>\n",
       "      <td>34</td>\n",
       "      <td>193</td>\n",
       "    </tr>\n",
       "    <tr>\n",
       "      <th>1082</th>\n",
       "      <td>ASTON MARTIN</td>\n",
       "      <td>DB9</td>\n",
       "      <td>MINICOMPACT</td>\n",
       "      <td>5.9</td>\n",
       "      <td>12</td>\n",
       "      <td>A6</td>\n",
       "      <td>Z</td>\n",
       "      <td>18.0</td>\n",
       "      <td>12.6</td>\n",
       "      <td>15.6</td>\n",
       "      <td>18</td>\n",
       "      <td>359</td>\n",
       "    </tr>\n",
       "    <tr>\n",
       "      <th>1084</th>\n",
       "      <td>ASTON MARTIN</td>\n",
       "      <td>V8 VANTAGE</td>\n",
       "      <td>TWO-SEATER</td>\n",
       "      <td>4.7</td>\n",
       "      <td>8</td>\n",
       "      <td>AM7</td>\n",
       "      <td>Z</td>\n",
       "      <td>17.4</td>\n",
       "      <td>11.3</td>\n",
       "      <td>14.7</td>\n",
       "      <td>19</td>\n",
       "      <td>338</td>\n",
       "    </tr>\n",
       "    <tr>\n",
       "      <th>...</th>\n",
       "      <td>...</td>\n",
       "      <td>...</td>\n",
       "      <td>...</td>\n",
       "      <td>...</td>\n",
       "      <td>...</td>\n",
       "      <td>...</td>\n",
       "      <td>...</td>\n",
       "      <td>...</td>\n",
       "      <td>...</td>\n",
       "      <td>...</td>\n",
       "      <td>...</td>\n",
       "      <td>...</td>\n",
       "    </tr>\n",
       "    <tr>\n",
       "      <th>7356</th>\n",
       "      <td>TOYOTA</td>\n",
       "      <td>Tundra</td>\n",
       "      <td>PICKUP TRUCK - STANDARD</td>\n",
       "      <td>5.7</td>\n",
       "      <td>8</td>\n",
       "      <td>AS6</td>\n",
       "      <td>X</td>\n",
       "      <td>17.7</td>\n",
       "      <td>13.6</td>\n",
       "      <td>15.9</td>\n",
       "      <td>18</td>\n",
       "      <td>371</td>\n",
       "    </tr>\n",
       "    <tr>\n",
       "      <th>7365</th>\n",
       "      <td>VOLKSWAGEN</td>\n",
       "      <td>Golf GTI</td>\n",
       "      <td>COMPACT</td>\n",
       "      <td>2.0</td>\n",
       "      <td>4</td>\n",
       "      <td>M6</td>\n",
       "      <td>X</td>\n",
       "      <td>9.8</td>\n",
       "      <td>7.3</td>\n",
       "      <td>8.7</td>\n",
       "      <td>32</td>\n",
       "      <td>203</td>\n",
       "    </tr>\n",
       "    <tr>\n",
       "      <th>7366</th>\n",
       "      <td>VOLKSWAGEN</td>\n",
       "      <td>Jetta</td>\n",
       "      <td>COMPACT</td>\n",
       "      <td>1.4</td>\n",
       "      <td>4</td>\n",
       "      <td>AS8</td>\n",
       "      <td>X</td>\n",
       "      <td>7.8</td>\n",
       "      <td>5.9</td>\n",
       "      <td>7.0</td>\n",
       "      <td>40</td>\n",
       "      <td>162</td>\n",
       "    </tr>\n",
       "    <tr>\n",
       "      <th>7367</th>\n",
       "      <td>VOLKSWAGEN</td>\n",
       "      <td>Jetta</td>\n",
       "      <td>COMPACT</td>\n",
       "      <td>1.4</td>\n",
       "      <td>4</td>\n",
       "      <td>M6</td>\n",
       "      <td>X</td>\n",
       "      <td>7.9</td>\n",
       "      <td>5.9</td>\n",
       "      <td>7.0</td>\n",
       "      <td>40</td>\n",
       "      <td>163</td>\n",
       "    </tr>\n",
       "    <tr>\n",
       "      <th>7368</th>\n",
       "      <td>VOLKSWAGEN</td>\n",
       "      <td>Jetta GLI</td>\n",
       "      <td>COMPACT</td>\n",
       "      <td>2.0</td>\n",
       "      <td>4</td>\n",
       "      <td>AM7</td>\n",
       "      <td>X</td>\n",
       "      <td>9.3</td>\n",
       "      <td>7.2</td>\n",
       "      <td>8.4</td>\n",
       "      <td>34</td>\n",
       "      <td>196</td>\n",
       "    </tr>\n",
       "  </tbody>\n",
       "</table>\n",
       "<p>1103 rows × 12 columns</p>\n",
       "</div>"
      ],
      "text/plain": [
       "              Make       Model            Vehicle Class  Engine Size(L)  \\\n",
       "1075         ACURA     RDX AWD              SUV - SMALL             3.5   \n",
       "1076         ACURA         RLX                 MID-SIZE             3.5   \n",
       "1081    ALFA ROMEO          4C               TWO-SEATER             1.8   \n",
       "1082  ASTON MARTIN         DB9              MINICOMPACT             5.9   \n",
       "1084  ASTON MARTIN  V8 VANTAGE               TWO-SEATER             4.7   \n",
       "...            ...         ...                      ...             ...   \n",
       "7356        TOYOTA      Tundra  PICKUP TRUCK - STANDARD             5.7   \n",
       "7365    VOLKSWAGEN    Golf GTI                  COMPACT             2.0   \n",
       "7366    VOLKSWAGEN       Jetta                  COMPACT             1.4   \n",
       "7367    VOLKSWAGEN       Jetta                  COMPACT             1.4   \n",
       "7368    VOLKSWAGEN   Jetta GLI                  COMPACT             2.0   \n",
       "\n",
       "      Cylinders Transmission Fuel Type  Fuel Consumption City (L/100 km)  \\\n",
       "1075          6          AS6         Z                              12.1   \n",
       "1076          6          AS6         Z                              11.9   \n",
       "1081          4          AM6         Z                               9.7   \n",
       "1082         12           A6         Z                              18.0   \n",
       "1084          8          AM7         Z                              17.4   \n",
       "...         ...          ...       ...                               ...   \n",
       "7356          8          AS6         X                              17.7   \n",
       "7365          4           M6         X                               9.8   \n",
       "7366          4          AS8         X                               7.8   \n",
       "7367          4           M6         X                               7.9   \n",
       "7368          4          AM7         X                               9.3   \n",
       "\n",
       "      Fuel Consumption Hwy (L/100 km)  Fuel Consumption Comb (L/100 km)  \\\n",
       "1075                              8.7                              10.6   \n",
       "1076                              7.7                              10.0   \n",
       "1081                              6.9                               8.4   \n",
       "1082                             12.6                              15.6   \n",
       "1084                             11.3                              14.7   \n",
       "...                               ...                               ...   \n",
       "7356                             13.6                              15.9   \n",
       "7365                              7.3                               8.7   \n",
       "7366                              5.9                               7.0   \n",
       "7367                              5.9                               7.0   \n",
       "7368                              7.2                               8.4   \n",
       "\n",
       "      Fuel Consumption Comb (mpg)  CO2 Emissions(g/km)  \n",
       "1075                           27                  244  \n",
       "1076                           28                  230  \n",
       "1081                           34                  193  \n",
       "1082                           18                  359  \n",
       "1084                           19                  338  \n",
       "...                           ...                  ...  \n",
       "7356                           18                  371  \n",
       "7365                           32                  203  \n",
       "7366                           40                  162  \n",
       "7367                           40                  163  \n",
       "7368                           34                  196  \n",
       "\n",
       "[1103 rows x 12 columns]"
      ]
     },
     "execution_count": 13,
     "metadata": {},
     "output_type": "execute_result"
    }
   ],
   "source": [
    "Co2_Emissions_Data.loc[Co2_Emissions_Data.duplicated(), :]"
   ]
  },
  {
   "cell_type": "markdown",
   "id": "d8d98807",
   "metadata": {},
   "source": [
    "# Data Segmentation"
   ]
  },
  {
   "cell_type": "code",
   "execution_count": 15,
   "id": "4ab77900",
   "metadata": {},
   "outputs": [
    {
     "data": {
      "text/plain": [
       "AS6     1324\n",
       "AS8     1211\n",
       "M6       901\n",
       "A6       789\n",
       "A8       490\n",
       "AM7      445\n",
       "A9       339\n",
       "AS7      319\n",
       "AV       295\n",
       "M5       193\n",
       "AS10     168\n",
       "AM6      132\n",
       "AV7      118\n",
       "AV6      113\n",
       "M7        91\n",
       "A5        84\n",
       "AS9       77\n",
       "A4        65\n",
       "AM8       62\n",
       "A7        53\n",
       "AV8       39\n",
       "A10       31\n",
       "AS5       26\n",
       "AV10      11\n",
       "AM5        4\n",
       "AM9        3\n",
       "AS4        2\n",
       "Name: Transmission, dtype: int64"
      ]
     },
     "execution_count": 15,
     "metadata": {},
     "output_type": "execute_result"
    }
   ],
   "source": [
    "transmission = Co2_Emissions_Data['Transmission'].sort_index()\n",
    "transmission.value_counts()"
   ]
  },
  {
   "cell_type": "code",
   "execution_count": 17,
   "id": "c2fe6e9d",
   "metadata": {},
   "outputs": [
    {
     "data": {
      "text/plain": [
       "F-150 FFV                   32\n",
       "F-150 FFV 4X4               32\n",
       "MUSTANG                     27\n",
       "FOCUS FFV                   24\n",
       "F-150                       20\n",
       "                            ..\n",
       "VENENO ROADSTER              1\n",
       "330i xDrive Gran Turismo     1\n",
       "CX-5 (SIL)                   1\n",
       "Quattroporte SQ4             1\n",
       "C 350 4MATIC                 1\n",
       "Name: Model, Length: 2053, dtype: int64"
      ]
     },
     "execution_count": 17,
     "metadata": {},
     "output_type": "execute_result"
    }
   ],
   "source": [
    "engineSize = Co2_Emissions_Data['Model'].sort_index()\n",
    "engineSize.value_counts()"
   ]
  },
  {
   "cell_type": "code",
   "execution_count": 19,
   "id": "5bef6a78",
   "metadata": {
    "scrolled": true
   },
   "outputs": [
    {
     "data": {
      "text/plain": [
       "FORD             628\n",
       "CHEVROLET        588\n",
       "BMW              527\n",
       "MERCEDES-BENZ    419\n",
       "PORSCHE          376\n",
       "TOYOTA           330\n",
       "GMC              328\n",
       "AUDI             286\n",
       "NISSAN           259\n",
       "JEEP             251\n",
       "DODGE            246\n",
       "KIA              231\n",
       "HONDA            214\n",
       "HYUNDAI          210\n",
       "MINI             204\n",
       "VOLKSWAGEN       197\n",
       "MAZDA            180\n",
       "LEXUS            178\n",
       "JAGUAR           160\n",
       "CADILLAC         158\n",
       "SUBARU           140\n",
       "VOLVO            124\n",
       "INFINITI         108\n",
       "BUICK            103\n",
       "RAM               97\n",
       "LINCOLN           96\n",
       "MITSUBISHI        95\n",
       "CHRYSLER          88\n",
       "LAND ROVER        85\n",
       "FIAT              73\n",
       "ACURA             72\n",
       "MASERATI          61\n",
       "ROLLS-ROYCE       50\n",
       "ASTON MARTIN      47\n",
       "BENTLEY           46\n",
       "LAMBORGHINI       41\n",
       "ALFA ROMEO        30\n",
       "GENESIS           25\n",
       "SCION             22\n",
       "SMART              7\n",
       "BUGATTI            3\n",
       "SRT                2\n",
       "Name: Make, dtype: int64"
      ]
     },
     "execution_count": 19,
     "metadata": {},
     "output_type": "execute_result"
    }
   ],
   "source": [
    "Make = Co2_Emissions_Data['Make'].sort_index()\n",
    "Make.value_counts()\n"
   ]
  },
  {
   "cell_type": "markdown",
   "id": "37df3ab7",
   "metadata": {},
   "source": [
    "The above mentioned data respresents how the data segments are distributed accross the data. We have considered 3 features which are Transmission, Engine size and Makers Respectively."
   ]
  },
  {
   "cell_type": "markdown",
   "id": "ceaea572",
   "metadata": {},
   "source": [
    "# **Finding the outliers by using box plot**"
   ]
  },
  {
   "cell_type": "code",
   "execution_count": 21,
   "id": "4e4873a8",
   "metadata": {},
   "outputs": [
    {
     "data": {
      "text/plain": [
       "Text(0.5, 0, 'Co2 emission in (grams/km)')"
      ]
     },
     "execution_count": 21,
     "metadata": {},
     "output_type": "execute_result"
    },
    {
     "data": {
      "image/png": "[encoded data removed]",
      "text/plain": [
       "<Figure size 432x288 with 1 Axes>"
      ]
     },
     "metadata": {
      "needs_background": "light"
     },
     "output_type": "display_data"
    }
   ],
   "source": [
    "ax = sns.boxplot(x=\"CO2 Emissions(g/km)\", data = Co2_Emissions_Data)\n",
    "ax.set(xlabel=\"CO2 Emissions in gms/km\")\n",
    "ax.set_title(\"Box plot for checking outliers in CO2 emissions\",color =\"Darkred\" ,fontsize = 20)\n",
    "plt.xlabel(\"Co2 emission in (grams/km)\",fontsize=17,color = \"Blue\")\n"
   ]
  },
  {
   "cell_type": "markdown",
   "id": "10060d90",
   "metadata": {},
   "source": [
    "From the above box plot we can infer that there is a single outlier in the given data, for which the co2 emission is above 500g/km ."
   ]
  },
  {
   "cell_type": "code",
   "execution_count": 23,
   "id": "f1aa1c68",
   "metadata": {
    "scrolled": true
   },
   "outputs": [
    {
     "data": {
      "text/plain": [
       "Text(0.5, 0, 'Fuel Consumption in City (Litres/100 km)')"
      ]
     },
     "execution_count": 23,
     "metadata": {},
     "output_type": "execute_result"
    },
    {
     "data": {
      "image/png": "[encoded data removed]",
      "text/plain": [
       "<Figure size 432x288 with 1 Axes>"
      ]
     },
     "metadata": {
      "needs_background": "light"
     },
     "output_type": "display_data"
    }
   ],
   "source": [
    "ax = sns.boxplot(x=\"Fuel Consumption City (L/100 km)\", data = Co2_Emissions_Data)\n",
    "ax.set_title(\"Box plot for checking outliers of Fuel Consumption in City\",color =\"Darkred\" ,fontsize = 20)\n",
    "plt.xlabel(\"Fuel Consumption in City (Litres/100 km)\",fontsize=17,color = \"Blue\")\n"
   ]
  },
  {
   "cell_type": "markdown",
   "id": "4ad5cf7d",
   "metadata": {},
   "source": [
    "This box plot visualizes the mileage in city by different vehicles outliers."
   ]
  },
  {
   "cell_type": "code",
   "execution_count": 25,
   "id": "9a8500ba",
   "metadata": {
    "scrolled": true
   },
   "outputs": [
    {
     "data": {
      "text/plain": [
       "Text(0.5, 0, 'Fuel Consumption in Highway (Litres/100 km)')"
      ]
     },
     "execution_count": 25,
     "metadata": {},
     "output_type": "execute_result"
    },
    {
     "data": {
      "image/png": "[encoded data removed]",
      "text/plain": [
       "<Figure size 432x288 with 1 Axes>"
      ]
     },
     "metadata": {
      "needs_background": "light"
     },
     "output_type": "display_data"
    }
   ],
   "source": [
    "ax = sns.boxplot(x=\"Fuel Consumption Hwy (L/100 km)\", data = Co2_Emissions_Data)\n",
    "ax.set_title(\"Box plot for checking outliers of Fuel Consumption in Highway\",color =\"Darkred\" ,fontsize = 20)\n",
    "plt.xlabel(\"Fuel Consumption in Highway (Litres/100 km)\",fontsize=17,color = \"Blue\")"
   ]
  },
  {
   "cell_type": "markdown",
   "id": "b1109e19",
   "metadata": {},
   "source": [
    "This box plot visualizes the mileage on highway by different vehicles outliers."
   ]
  },
  {
   "cell_type": "markdown",
   "id": "99a02026",
   "metadata": {},
   "source": [
    "# **Correlation between columns in our dataset**"
   ]
  },
  {
   "cell_type": "code",
   "execution_count": 28,
   "id": "3378410d",
   "metadata": {},
   "outputs": [
    {
     "data": {
      "text/html": [
       "<div>\n",
       "<style scoped>\n",
       "    .dataframe tbody tr th:only-of-type {\n",
       "        vertical-align: middle;\n",
       "    }\n",
       "\n",
       "    .dataframe tbody tr th {\n",
       "        vertical-align: top;\n",
       "    }\n",
       "\n",
       "    .dataframe thead th {\n",
       "        text-align: right;\n",
       "    }\n",
       "</style>\n",
       "<table border=\"1\" class=\"dataframe\">\n",
       "  <thead>\n",
       "    <tr style=\"text-align: right;\">\n",
       "      <th></th>\n",
       "      <th>CO2 Emissions(g/km)</th>\n",
       "      <th>Fuel Consumption City (L/100 km)</th>\n",
       "    </tr>\n",
       "  </thead>\n",
       "  <tbody>\n",
       "    <tr>\n",
       "      <th>CO2 Emissions(g/km)</th>\n",
       "      <td>1.000000</td>\n",
       "      <td>0.919592</td>\n",
       "    </tr>\n",
       "    <tr>\n",
       "      <th>Fuel Consumption City (L/100 km)</th>\n",
       "      <td>0.919592</td>\n",
       "      <td>1.000000</td>\n",
       "    </tr>\n",
       "  </tbody>\n",
       "</table>\n",
       "</div>"
      ],
      "text/plain": [
       "                                  CO2 Emissions(g/km)  \\\n",
       "CO2 Emissions(g/km)                          1.000000   \n",
       "Fuel Consumption City (L/100 km)             0.919592   \n",
       "\n",
       "                                  Fuel Consumption City (L/100 km)  \n",
       "CO2 Emissions(g/km)                                       0.919592  \n",
       "Fuel Consumption City (L/100 km)                          1.000000  "
      ]
     },
     "execution_count": 28,
     "metadata": {},
     "output_type": "execute_result"
    }
   ],
   "source": [
    "columns = ['CO2 Emissions(g/km)','Fuel Consumption City (L/100 km)']\n",
    "subset = Co2_Emissions_Data[columns]\n",
    "subset.corr()"
   ]
  },
  {
   "cell_type": "code",
   "execution_count": 30,
   "id": "4d0774db",
   "metadata": {
    "scrolled": true
   },
   "outputs": [
    {
     "data": {
      "text/plain": [
       "Text(0.5, 15.0, 'Column Names')"
      ]
     },
     "execution_count": 30,
     "metadata": {},
     "output_type": "execute_result"
    },
    {
     "data": {
      "image/png": "[encoded data removed]",
      "text/plain": [
       "<Figure size 432x288 with 2 Axes>"
      ]
     },
     "metadata": {
      "needs_background": "light"
     },
     "output_type": "display_data"
    }
   ],
   "source": [
    "corr = Co2_Emissions_Data.corr()\n",
    "\n",
    "ax = sns.heatmap(\n",
    "    corr, \n",
    "    vmin=-1, vmax=1, center=0,\n",
    "    cmap=sns.diverging_palette(20, 220, n=200),\n",
    "    square=True\n",
    ")\n",
    "ax.set_xticklabels(\n",
    "    ax.get_xticklabels(),\n",
    "    rotation=45,\n",
    "    horizontalalignment='right'\n",
    ");\n",
    "ax.set_title(\"Plot for displaying correlation between various columns\",color =\"Darkred\" ,fontsize = 22)\n",
    "plt.xlabel(\"Column Names\",fontsize=17,color = \"Blue\")"
   ]
  },
  {
   "cell_type": "markdown",
   "id": "01365e9e",
   "metadata": {},
   "source": [
    "This heatmap gives a graphical    representation of the correlation between various features. In this plot, Blue means positive and red means negative. The darker the color the stronger is the magnitude of correlation between them."
   ]
  },
  {
   "cell_type": "markdown",
   "id": "279f1e22",
   "metadata": {},
   "source": [
    "# **Preliminary Visualizations**"
   ]
  },
  {
   "cell_type": "markdown",
   "id": "7ac5dbab",
   "metadata": {},
   "source": [
    "## Count of different Vehicle Class spread over data"
   ]
  },
  {
   "cell_type": "code",
   "execution_count": 32,
   "id": "90ca7f40",
   "metadata": {},
   "outputs": [
    {
     "data": {
      "image/png": "[encoded data removed]",
      "text/plain": [
       "<Figure size 432x288 with 1 Axes>"
      ]
     },
     "metadata": {
      "needs_background": "light"
     },
     "output_type": "display_data"
    }
   ],
   "source": [
    "ax = sns.countplot(y ='Vehicle Class', data = Co2_Emissions_Data)\n",
    "ax.set_title(\"Number of vehicles for respective vehicle class\", fontsize = 20,color =\"Darkred\")\n",
    "plt.xlabel(\"Count\",fontsize=17,color = \"DarkBlue\")\n",
    "plt.ylabel(\"Vehicle Class\", fontsize=17,color = \"DarkBlue\")\n",
    "plt.show()"
   ]
  },
  {
   "cell_type": "markdown",
   "id": "77818c63",
   "metadata": {},
   "source": [
    "From the above plot we can infer the number of various vehicle classes spread over the data."
   ]
  },
  {
   "cell_type": "markdown",
   "id": "f6da3b80",
   "metadata": {},
   "source": [
    "## Number of cylinders across data"
   ]
  },
  {
   "cell_type": "code",
   "execution_count": 34,
   "id": "bdc28597",
   "metadata": {},
   "outputs": [
    {
     "data": {
      "image/png": "[encoded data removed]",
      "text/plain": [
       "<Figure size 432x288 with 1 Axes>"
      ]
     },
     "metadata": {
      "needs_background": "light"
     },
     "output_type": "display_data"
    }
   ],
   "source": [
    "ax = sns.countplot(x ='Cylinders', data = Co2_Emissions_Data)\n",
    "ax.set_title(\"Count of cars using respective number of cylinders\",color =\"Darkred\" ,fontsize = 20)\n",
    "plt.xlabel(\"Number of cylinders\",fontsize=17,color = \"DarkBlue\")\n",
    "plt.ylabel(\"Count\", fontsize=17,color = \"DarkBlue\")\n",
    "plt.show()"
   ]
  },
  {
   "cell_type": "markdown",
   "id": "51e64d9e",
   "metadata": {},
   "source": [
    "We can say that the maximum number of cars are using 4 cylinders."
   ]
  },
  {
   "cell_type": "markdown",
   "id": "c35f4dbd",
   "metadata": {},
   "source": [
    "## Fuel Types used among number of cars"
   ]
  },
  {
   "cell_type": "code",
   "execution_count": 36,
   "id": "4749ec04",
   "metadata": {
    "scrolled": true
   },
   "outputs": [
    {
     "data": {
      "image/png": "[encoded data removed]",
      "text/plain": [
       "<Figure size 432x288 with 1 Axes>"
      ]
     },
     "metadata": {
      "needs_background": "light"
     },
     "output_type": "display_data"
    }
   ],
   "source": [
    "ax = sns.countplot(x ='Fuel Type', data = Co2_Emissions_Data)\n",
    "ax.set_title(\"Count of cars using respective type of fuel \",color =\"Darkred\",fontsize = 20)\n",
    "plt.xlabel(\"Type of fuel\",fontsize=17,color = \"DarkBlue\")\n",
    "plt.ylabel(\"Count\", fontsize=17,color = \"DarkBlue\")\n",
    "plt.show()"
   ]
  },
  {
   "cell_type": "markdown",
   "id": "7236b881",
   "metadata": {},
   "source": [
    "# Data Cleaning / Transformation"
   ]
  },
  {
   "cell_type": "markdown",
   "id": "2485ceed",
   "metadata": {},
   "source": [
    "### The number of Rows and Columns before removing the duplicates"
   ]
  },
  {
   "cell_type": "code",
   "execution_count": 37,
   "id": "ec0ed533",
   "metadata": {},
   "outputs": [
    {
     "data": {
      "text/plain": [
       "(7385, 12)"
      ]
     },
     "execution_count": 37,
     "metadata": {},
     "output_type": "execute_result"
    }
   ],
   "source": [
    "Co2_Emissions_Data.shape"
   ]
  },
  {
   "cell_type": "markdown",
   "id": "40376306",
   "metadata": {},
   "source": [
    "## Duplicated Rows"
   ]
  },
  {
   "cell_type": "code",
   "execution_count": 59,
   "id": "f53bbc51",
   "metadata": {},
   "outputs": [
    {
     "data": {
      "text/html": [
       "<div>\n",
       "<style scoped>\n",
       "    .dataframe tbody tr th:only-of-type {\n",
       "        vertical-align: middle;\n",
       "    }\n",
       "\n",
       "    .dataframe tbody tr th {\n",
       "        vertical-align: top;\n",
       "    }\n",
       "\n",
       "    .dataframe thead th {\n",
       "        text-align: right;\n",
       "    }\n",
       "</style>\n",
       "<table border=\"1\" class=\"dataframe\">\n",
       "  <thead>\n",
       "    <tr style=\"text-align: right;\">\n",
       "      <th></th>\n",
       "      <th>Make</th>\n",
       "      <th>Model</th>\n",
       "      <th>Vehicle Class</th>\n",
       "      <th>Engine Size(L)</th>\n",
       "      <th>Cylinders</th>\n",
       "      <th>Transmission</th>\n",
       "      <th>Fuel Type</th>\n",
       "      <th>Fuel Consumption City (L/100 km)</th>\n",
       "      <th>Fuel Consumption Hwy (L/100 km)</th>\n",
       "      <th>Fuel Consumption Comb (L/100 km)</th>\n",
       "      <th>Fuel Consumption Comb (mpg)</th>\n",
       "      <th>CO2 Emissions(g/km)</th>\n",
       "    </tr>\n",
       "  </thead>\n",
       "  <tbody>\n",
       "    <tr>\n",
       "      <th>1075</th>\n",
       "      <td>ACURA</td>\n",
       "      <td>RDX AWD</td>\n",
       "      <td>SUV - SMALL</td>\n",
       "      <td>3.5</td>\n",
       "      <td>6</td>\n",
       "      <td>AS6</td>\n",
       "      <td>Z</td>\n",
       "      <td>12.1</td>\n",
       "      <td>8.7</td>\n",
       "      <td>10.6</td>\n",
       "      <td>27</td>\n",
       "      <td>244</td>\n",
       "    </tr>\n",
       "    <tr>\n",
       "      <th>1076</th>\n",
       "      <td>ACURA</td>\n",
       "      <td>RLX</td>\n",
       "      <td>MID-SIZE</td>\n",
       "      <td>3.5</td>\n",
       "      <td>6</td>\n",
       "      <td>AS6</td>\n",
       "      <td>Z</td>\n",
       "      <td>11.9</td>\n",
       "      <td>7.7</td>\n",
       "      <td>10.0</td>\n",
       "      <td>28</td>\n",
       "      <td>230</td>\n",
       "    </tr>\n",
       "    <tr>\n",
       "      <th>1081</th>\n",
       "      <td>ALFA ROMEO</td>\n",
       "      <td>4C</td>\n",
       "      <td>TWO-SEATER</td>\n",
       "      <td>1.8</td>\n",
       "      <td>4</td>\n",
       "      <td>AM6</td>\n",
       "      <td>Z</td>\n",
       "      <td>9.7</td>\n",
       "      <td>6.9</td>\n",
       "      <td>8.4</td>\n",
       "      <td>34</td>\n",
       "      <td>193</td>\n",
       "    </tr>\n",
       "    <tr>\n",
       "      <th>1082</th>\n",
       "      <td>ASTON MARTIN</td>\n",
       "      <td>DB9</td>\n",
       "      <td>MINICOMPACT</td>\n",
       "      <td>5.9</td>\n",
       "      <td>12</td>\n",
       "      <td>A6</td>\n",
       "      <td>Z</td>\n",
       "      <td>18.0</td>\n",
       "      <td>12.6</td>\n",
       "      <td>15.6</td>\n",
       "      <td>18</td>\n",
       "      <td>359</td>\n",
       "    </tr>\n",
       "    <tr>\n",
       "      <th>1084</th>\n",
       "      <td>ASTON MARTIN</td>\n",
       "      <td>V8 VANTAGE</td>\n",
       "      <td>TWO-SEATER</td>\n",
       "      <td>4.7</td>\n",
       "      <td>8</td>\n",
       "      <td>AM7</td>\n",
       "      <td>Z</td>\n",
       "      <td>17.4</td>\n",
       "      <td>11.3</td>\n",
       "      <td>14.7</td>\n",
       "      <td>19</td>\n",
       "      <td>338</td>\n",
       "    </tr>\n",
       "    <tr>\n",
       "      <th>...</th>\n",
       "      <td>...</td>\n",
       "      <td>...</td>\n",
       "      <td>...</td>\n",
       "      <td>...</td>\n",
       "      <td>...</td>\n",
       "      <td>...</td>\n",
       "      <td>...</td>\n",
       "      <td>...</td>\n",
       "      <td>...</td>\n",
       "      <td>...</td>\n",
       "      <td>...</td>\n",
       "      <td>...</td>\n",
       "    </tr>\n",
       "    <tr>\n",
       "      <th>7356</th>\n",
       "      <td>TOYOTA</td>\n",
       "      <td>Tundra</td>\n",
       "      <td>PICKUP TRUCK - STANDARD</td>\n",
       "      <td>5.7</td>\n",
       "      <td>8</td>\n",
       "      <td>AS6</td>\n",
       "      <td>X</td>\n",
       "      <td>17.7</td>\n",
       "      <td>13.6</td>\n",
       "      <td>15.9</td>\n",
       "      <td>18</td>\n",
       "      <td>371</td>\n",
       "    </tr>\n",
       "    <tr>\n",
       "      <th>7365</th>\n",
       "      <td>VOLKSWAGEN</td>\n",
       "      <td>Golf GTI</td>\n",
       "      <td>COMPACT</td>\n",
       "      <td>2.0</td>\n",
       "      <td>4</td>\n",
       "      <td>M6</td>\n",
       "      <td>X</td>\n",
       "      <td>9.8</td>\n",
       "      <td>7.3</td>\n",
       "      <td>8.7</td>\n",
       "      <td>32</td>\n",
       "      <td>203</td>\n",
       "    </tr>\n",
       "    <tr>\n",
       "      <th>7366</th>\n",
       "      <td>VOLKSWAGEN</td>\n",
       "      <td>Jetta</td>\n",
       "      <td>COMPACT</td>\n",
       "      <td>1.4</td>\n",
       "      <td>4</td>\n",
       "      <td>AS8</td>\n",
       "      <td>X</td>\n",
       "      <td>7.8</td>\n",
       "      <td>5.9</td>\n",
       "      <td>7.0</td>\n",
       "      <td>40</td>\n",
       "      <td>162</td>\n",
       "    </tr>\n",
       "    <tr>\n",
       "      <th>7367</th>\n",
       "      <td>VOLKSWAGEN</td>\n",
       "      <td>Jetta</td>\n",
       "      <td>COMPACT</td>\n",
       "      <td>1.4</td>\n",
       "      <td>4</td>\n",
       "      <td>M6</td>\n",
       "      <td>X</td>\n",
       "      <td>7.9</td>\n",
       "      <td>5.9</td>\n",
       "      <td>7.0</td>\n",
       "      <td>40</td>\n",
       "      <td>163</td>\n",
       "    </tr>\n",
       "    <tr>\n",
       "      <th>7368</th>\n",
       "      <td>VOLKSWAGEN</td>\n",
       "      <td>Jetta GLI</td>\n",
       "      <td>COMPACT</td>\n",
       "      <td>2.0</td>\n",
       "      <td>4</td>\n",
       "      <td>AM7</td>\n",
       "      <td>X</td>\n",
       "      <td>9.3</td>\n",
       "      <td>7.2</td>\n",
       "      <td>8.4</td>\n",
       "      <td>34</td>\n",
       "      <td>196</td>\n",
       "    </tr>\n",
       "  </tbody>\n",
       "</table>\n",
       "<p>1103 rows × 12 columns</p>\n",
       "</div>"
      ],
      "text/plain": [
       "              Make       Model            Vehicle Class  Engine Size(L)  \\\n",
       "1075         ACURA     RDX AWD              SUV - SMALL             3.5   \n",
       "1076         ACURA         RLX                 MID-SIZE             3.5   \n",
       "1081    ALFA ROMEO          4C               TWO-SEATER             1.8   \n",
       "1082  ASTON MARTIN         DB9              MINICOMPACT             5.9   \n",
       "1084  ASTON MARTIN  V8 VANTAGE               TWO-SEATER             4.7   \n",
       "...            ...         ...                      ...             ...   \n",
       "7356        TOYOTA      Tundra  PICKUP TRUCK - STANDARD             5.7   \n",
       "7365    VOLKSWAGEN    Golf GTI                  COMPACT             2.0   \n",
       "7366    VOLKSWAGEN       Jetta                  COMPACT             1.4   \n",
       "7367    VOLKSWAGEN       Jetta                  COMPACT             1.4   \n",
       "7368    VOLKSWAGEN   Jetta GLI                  COMPACT             2.0   \n",
       "\n",
       "      Cylinders Transmission Fuel Type  Fuel Consumption City (L/100 km)  \\\n",
       "1075          6          AS6         Z                              12.1   \n",
       "1076          6          AS6         Z                              11.9   \n",
       "1081          4          AM6         Z                               9.7   \n",
       "1082         12           A6         Z                              18.0   \n",
       "1084          8          AM7         Z                              17.4   \n",
       "...         ...          ...       ...                               ...   \n",
       "7356          8          AS6         X                              17.7   \n",
       "7365          4           M6         X                               9.8   \n",
       "7366          4          AS8         X                               7.8   \n",
       "7367          4           M6         X                               7.9   \n",
       "7368          4          AM7         X                               9.3   \n",
       "\n",
       "      Fuel Consumption Hwy (L/100 km)  Fuel Consumption Comb (L/100 km)  \\\n",
       "1075                              8.7                              10.6   \n",
       "1076                              7.7                              10.0   \n",
       "1081                              6.9                               8.4   \n",
       "1082                             12.6                              15.6   \n",
       "1084                             11.3                              14.7   \n",
       "...                               ...                               ...   \n",
       "7356                             13.6                              15.9   \n",
       "7365                              7.3                               8.7   \n",
       "7366                              5.9                               7.0   \n",
       "7367                              5.9                               7.0   \n",
       "7368                              7.2                               8.4   \n",
       "\n",
       "      Fuel Consumption Comb (mpg)  CO2 Emissions(g/km)  \n",
       "1075                           27                  244  \n",
       "1076                           28                  230  \n",
       "1081                           34                  193  \n",
       "1082                           18                  359  \n",
       "1084                           19                  338  \n",
       "...                           ...                  ...  \n",
       "7356                           18                  371  \n",
       "7365                           32                  203  \n",
       "7366                           40                  162  \n",
       "7367                           40                  163  \n",
       "7368                           34                  196  \n",
       "\n",
       "[1103 rows x 12 columns]"
      ]
     },
     "execution_count": 59,
     "metadata": {},
     "output_type": "execute_result"
    }
   ],
   "source": [
    "Co2_Emissions_Data[Co2_Emissions_Data.duplicated()]"
   ]
  },
  {
   "cell_type": "markdown",
   "id": "f076845b",
   "metadata": {},
   "source": [
    "## Dropping Duplicated Rows"
   ]
  },
  {
   "cell_type": "code",
   "execution_count": 60,
   "id": "3ebf26ad",
   "metadata": {},
   "outputs": [],
   "source": [
    "Co2_Emissions_Data = Co2_Emissions_Data.drop_duplicates()"
   ]
  },
  {
   "cell_type": "markdown",
   "id": "4e6b82f3",
   "metadata": {},
   "source": [
    "### The Number of Rows and Columns after removing Duplicates"
   ]
  },
  {
   "cell_type": "code",
   "execution_count": 61,
   "id": "ce483027",
   "metadata": {},
   "outputs": [
    {
     "data": {
      "text/plain": [
       "(6282, 12)"
      ]
     },
     "execution_count": 61,
     "metadata": {},
     "output_type": "execute_result"
    }
   ],
   "source": [
    "Co2_Emissions_Data.shape"
   ]
  },
  {
   "cell_type": "markdown",
   "id": "91a2d8dc",
   "metadata": {},
   "source": [
    "## Missing Values in the Dataset"
   ]
  },
  {
   "cell_type": "code",
   "execution_count": 62,
   "id": "3c73444b",
   "metadata": {},
   "outputs": [
    {
     "data": {
      "text/html": [
       "<div>\n",
       "<style scoped>\n",
       "    .dataframe tbody tr th:only-of-type {\n",
       "        vertical-align: middle;\n",
       "    }\n",
       "\n",
       "    .dataframe tbody tr th {\n",
       "        vertical-align: top;\n",
       "    }\n",
       "\n",
       "    .dataframe thead th {\n",
       "        text-align: right;\n",
       "    }\n",
       "</style>\n",
       "<table border=\"1\" class=\"dataframe\">\n",
       "  <thead>\n",
       "    <tr style=\"text-align: right;\">\n",
       "      <th></th>\n",
       "      <th>Make</th>\n",
       "      <th>Model</th>\n",
       "      <th>Vehicle Class</th>\n",
       "      <th>Engine Size(L)</th>\n",
       "      <th>Cylinders</th>\n",
       "      <th>Transmission</th>\n",
       "      <th>Fuel Type</th>\n",
       "      <th>Fuel Consumption City (L/100 km)</th>\n",
       "      <th>Fuel Consumption Hwy (L/100 km)</th>\n",
       "      <th>Fuel Consumption Comb (L/100 km)</th>\n",
       "      <th>Fuel Consumption Comb (mpg)</th>\n",
       "      <th>CO2 Emissions(g/km)</th>\n",
       "    </tr>\n",
       "  </thead>\n",
       "  <tbody>\n",
       "    <tr>\n",
       "      <th>0</th>\n",
       "      <td>NaN</td>\n",
       "      <td>NaN</td>\n",
       "      <td>NaN</td>\n",
       "      <td>NaN</td>\n",
       "      <td>NaN</td>\n",
       "      <td>NaN</td>\n",
       "      <td>NaN</td>\n",
       "      <td>NaN</td>\n",
       "      <td>NaN</td>\n",
       "      <td>NaN</td>\n",
       "      <td>NaN</td>\n",
       "      <td>NaN</td>\n",
       "    </tr>\n",
       "    <tr>\n",
       "      <th>1</th>\n",
       "      <td>NaN</td>\n",
       "      <td>NaN</td>\n",
       "      <td>NaN</td>\n",
       "      <td>NaN</td>\n",
       "      <td>NaN</td>\n",
       "      <td>NaN</td>\n",
       "      <td>NaN</td>\n",
       "      <td>NaN</td>\n",
       "      <td>NaN</td>\n",
       "      <td>NaN</td>\n",
       "      <td>NaN</td>\n",
       "      <td>NaN</td>\n",
       "    </tr>\n",
       "    <tr>\n",
       "      <th>2</th>\n",
       "      <td>NaN</td>\n",
       "      <td>NaN</td>\n",
       "      <td>NaN</td>\n",
       "      <td>NaN</td>\n",
       "      <td>NaN</td>\n",
       "      <td>NaN</td>\n",
       "      <td>NaN</td>\n",
       "      <td>NaN</td>\n",
       "      <td>NaN</td>\n",
       "      <td>NaN</td>\n",
       "      <td>NaN</td>\n",
       "      <td>NaN</td>\n",
       "    </tr>\n",
       "    <tr>\n",
       "      <th>3</th>\n",
       "      <td>NaN</td>\n",
       "      <td>NaN</td>\n",
       "      <td>NaN</td>\n",
       "      <td>NaN</td>\n",
       "      <td>NaN</td>\n",
       "      <td>NaN</td>\n",
       "      <td>NaN</td>\n",
       "      <td>NaN</td>\n",
       "      <td>NaN</td>\n",
       "      <td>NaN</td>\n",
       "      <td>NaN</td>\n",
       "      <td>NaN</td>\n",
       "    </tr>\n",
       "    <tr>\n",
       "      <th>4</th>\n",
       "      <td>NaN</td>\n",
       "      <td>NaN</td>\n",
       "      <td>NaN</td>\n",
       "      <td>NaN</td>\n",
       "      <td>NaN</td>\n",
       "      <td>NaN</td>\n",
       "      <td>NaN</td>\n",
       "      <td>NaN</td>\n",
       "      <td>NaN</td>\n",
       "      <td>NaN</td>\n",
       "      <td>NaN</td>\n",
       "      <td>NaN</td>\n",
       "    </tr>\n",
       "    <tr>\n",
       "      <th>...</th>\n",
       "      <td>...</td>\n",
       "      <td>...</td>\n",
       "      <td>...</td>\n",
       "      <td>...</td>\n",
       "      <td>...</td>\n",
       "      <td>...</td>\n",
       "      <td>...</td>\n",
       "      <td>...</td>\n",
       "      <td>...</td>\n",
       "      <td>...</td>\n",
       "      <td>...</td>\n",
       "      <td>...</td>\n",
       "    </tr>\n",
       "    <tr>\n",
       "      <th>7380</th>\n",
       "      <td>NaN</td>\n",
       "      <td>NaN</td>\n",
       "      <td>NaN</td>\n",
       "      <td>NaN</td>\n",
       "      <td>NaN</td>\n",
       "      <td>NaN</td>\n",
       "      <td>NaN</td>\n",
       "      <td>NaN</td>\n",
       "      <td>NaN</td>\n",
       "      <td>NaN</td>\n",
       "      <td>NaN</td>\n",
       "      <td>NaN</td>\n",
       "    </tr>\n",
       "    <tr>\n",
       "      <th>7381</th>\n",
       "      <td>NaN</td>\n",
       "      <td>NaN</td>\n",
       "      <td>NaN</td>\n",
       "      <td>NaN</td>\n",
       "      <td>NaN</td>\n",
       "      <td>NaN</td>\n",
       "      <td>NaN</td>\n",
       "      <td>NaN</td>\n",
       "      <td>NaN</td>\n",
       "      <td>NaN</td>\n",
       "      <td>NaN</td>\n",
       "      <td>NaN</td>\n",
       "    </tr>\n",
       "    <tr>\n",
       "      <th>7382</th>\n",
       "      <td>NaN</td>\n",
       "      <td>NaN</td>\n",
       "      <td>NaN</td>\n",
       "      <td>NaN</td>\n",
       "      <td>NaN</td>\n",
       "      <td>NaN</td>\n",
       "      <td>NaN</td>\n",
       "      <td>NaN</td>\n",
       "      <td>NaN</td>\n",
       "      <td>NaN</td>\n",
       "      <td>NaN</td>\n",
       "      <td>NaN</td>\n",
       "    </tr>\n",
       "    <tr>\n",
       "      <th>7383</th>\n",
       "      <td>NaN</td>\n",
       "      <td>NaN</td>\n",
       "      <td>NaN</td>\n",
       "      <td>NaN</td>\n",
       "      <td>NaN</td>\n",
       "      <td>NaN</td>\n",
       "      <td>NaN</td>\n",
       "      <td>NaN</td>\n",
       "      <td>NaN</td>\n",
       "      <td>NaN</td>\n",
       "      <td>NaN</td>\n",
       "      <td>NaN</td>\n",
       "    </tr>\n",
       "    <tr>\n",
       "      <th>7384</th>\n",
       "      <td>NaN</td>\n",
       "      <td>NaN</td>\n",
       "      <td>NaN</td>\n",
       "      <td>NaN</td>\n",
       "      <td>NaN</td>\n",
       "      <td>NaN</td>\n",
       "      <td>NaN</td>\n",
       "      <td>NaN</td>\n",
       "      <td>NaN</td>\n",
       "      <td>NaN</td>\n",
       "      <td>NaN</td>\n",
       "      <td>NaN</td>\n",
       "    </tr>\n",
       "  </tbody>\n",
       "</table>\n",
       "<p>6282 rows × 12 columns</p>\n",
       "</div>"
      ],
      "text/plain": [
       "     Make Model Vehicle Class  Engine Size(L)  Cylinders Transmission  \\\n",
       "0     NaN   NaN           NaN             NaN        NaN          NaN   \n",
       "1     NaN   NaN           NaN             NaN        NaN          NaN   \n",
       "2     NaN   NaN           NaN             NaN        NaN          NaN   \n",
       "3     NaN   NaN           NaN             NaN        NaN          NaN   \n",
       "4     NaN   NaN           NaN             NaN        NaN          NaN   \n",
       "...   ...   ...           ...             ...        ...          ...   \n",
       "7380  NaN   NaN           NaN             NaN        NaN          NaN   \n",
       "7381  NaN   NaN           NaN             NaN        NaN          NaN   \n",
       "7382  NaN   NaN           NaN             NaN        NaN          NaN   \n",
       "7383  NaN   NaN           NaN             NaN        NaN          NaN   \n",
       "7384  NaN   NaN           NaN             NaN        NaN          NaN   \n",
       "\n",
       "     Fuel Type  Fuel Consumption City (L/100 km)  \\\n",
       "0          NaN                               NaN   \n",
       "1          NaN                               NaN   \n",
       "2          NaN                               NaN   \n",
       "3          NaN                               NaN   \n",
       "4          NaN                               NaN   \n",
       "...        ...                               ...   \n",
       "7380       NaN                               NaN   \n",
       "7381       NaN                               NaN   \n",
       "7382       NaN                               NaN   \n",
       "7383       NaN                               NaN   \n",
       "7384       NaN                               NaN   \n",
       "\n",
       "      Fuel Consumption Hwy (L/100 km)  Fuel Consumption Comb (L/100 km)  \\\n",
       "0                                 NaN                               NaN   \n",
       "1                                 NaN                               NaN   \n",
       "2                                 NaN                               NaN   \n",
       "3                                 NaN                               NaN   \n",
       "4                                 NaN                               NaN   \n",
       "...                               ...                               ...   \n",
       "7380                              NaN                               NaN   \n",
       "7381                              NaN                               NaN   \n",
       "7382                              NaN                               NaN   \n",
       "7383                              NaN                               NaN   \n",
       "7384                              NaN                               NaN   \n",
       "\n",
       "      Fuel Consumption Comb (mpg)  CO2 Emissions(g/km)  \n",
       "0                             NaN                  NaN  \n",
       "1                             NaN                  NaN  \n",
       "2                             NaN                  NaN  \n",
       "3                             NaN                  NaN  \n",
       "4                             NaN                  NaN  \n",
       "...                           ...                  ...  \n",
       "7380                          NaN                  NaN  \n",
       "7381                          NaN                  NaN  \n",
       "7382                          NaN                  NaN  \n",
       "7383                          NaN                  NaN  \n",
       "7384                          NaN                  NaN  \n",
       "\n",
       "[6282 rows x 12 columns]"
      ]
     },
     "execution_count": 62,
     "metadata": {},
     "output_type": "execute_result"
    }
   ],
   "source": [
    "Co2_Emissions_Data[Co2_Emissions_Data.isnull()]"
   ]
  },
  {
   "cell_type": "markdown",
   "id": "743e2823",
   "metadata": {},
   "source": [
    "### Count of Missing Values"
   ]
  },
  {
   "cell_type": "code",
   "execution_count": 63,
   "id": "10fd46e7",
   "metadata": {},
   "outputs": [
    {
     "data": {
      "text/plain": [
       "Make                                0\n",
       "Model                               0\n",
       "Vehicle Class                       0\n",
       "Engine Size(L)                      0\n",
       "Cylinders                           0\n",
       "Transmission                        0\n",
       "Fuel Type                           0\n",
       "Fuel Consumption City (L/100 km)    0\n",
       "Fuel Consumption Hwy (L/100 km)     0\n",
       "Fuel Consumption Comb (L/100 km)    0\n",
       "Fuel Consumption Comb (mpg)         0\n",
       "CO2 Emissions(g/km)                 0\n",
       "dtype: int64"
      ]
     },
     "execution_count": 63,
     "metadata": {},
     "output_type": "execute_result"
    }
   ],
   "source": [
    "Co2_Emissions_Data.isnull().sum()"
   ]
  },
  {
   "cell_type": "markdown",
   "id": "ce3f436f",
   "metadata": {},
   "source": [
    "From the above count and the table it is evident that there are no missing values"
   ]
  },
  {
   "cell_type": "markdown",
   "id": "fe6b2ccc",
   "metadata": {},
   "source": [
    "### Transforming Fuel Type names in Fuel types column"
   ]
  },
  {
   "cell_type": "markdown",
   "id": "5d47ac0c",
   "metadata": {},
   "source": [
    "Creating a dictionary for transforming Fuel Types names"
   ]
  },
  {
   "cell_type": "code",
   "execution_count": 64,
   "id": "081291ed",
   "metadata": {},
   "outputs": [],
   "source": [
    "Fuel_Types = {\n",
    "    \"X\" : \"Regular Gasoline\",\n",
    "    \"Z\" : \"Premium Gasoline\",\n",
    "    \"D\" : \"Diesel\",\n",
    "    \"E\" : \"Ethanol (E85)\",\n",
    "    \"N\" : \"Natural Gas\"\n",
    "}"
   ]
  },
  {
   "cell_type": "code",
   "execution_count": 65,
   "id": "4be4d7e2",
   "metadata": {},
   "outputs": [],
   "source": [
    "Co2_Emissions_Data[\"Fuel Type\"] = Co2_Emissions_Data[\"Fuel Type\"].map(Fuel_Types)"
   ]
  },
  {
   "cell_type": "markdown",
   "id": "95c0645b",
   "metadata": {},
   "source": [
    "We have used map function here to change the names of fuel types from fuel type codes( X,Z,D,E,N) to names which are more human readable"
   ]
  },
  {
   "cell_type": "markdown",
   "id": "87034336",
   "metadata": {},
   "source": [
    "### Exporting Data in Excel Format for visualizing data in Tableau"
   ]
  },
  {
   "cell_type": "code",
   "execution_count": 67,
   "id": "ab991751",
   "metadata": {},
   "outputs": [],
   "source": [
    "Co2_Dataset_Excel = Co2_Emissions_Data.to_excel(\"CO2_Emissions_Canada1.xlsx\")"
   ]
  },
  {
   "cell_type": "markdown",
   "id": "ebdd0383",
   "metadata": {},
   "source": [
    "## **Code Refrences**"
   ]
  },
  {
   "cell_type": "markdown",
   "id": "2861e49f",
   "metadata": {},
   "source": [
    "* https://towardsdatascience.com/"
   ]
  },
  {
   "cell_type": "markdown",
   "id": "96b2c17c",
   "metadata": {},
   "source": [
    "* https://coderzcolumn.com/"
   ]
  },
  {
   "cell_type": "markdown",
   "id": "b4642ca5",
   "metadata": {},
   "source": [
    "* https://stackoverflow.com/"
   ]
  },
  {
   "cell_type": "markdown",
   "id": "c2a3e960",
   "metadata": {},
   "source": [
    "* https://www.geeksforgeeks.org/countplot-using-seaborn-in-python/"
   ]
  },
  {
   "cell_type": "markdown",
   "id": "981fe125",
   "metadata": {},
   "source": [
    "* https://towardsdatascience.com/better-heatmaps-and-correlation-matrix-plots-in-python-41445d0f2bec"
   ]
  },
  {
   "cell_type": "markdown",
   "id": "02727d12",
   "metadata": {},
   "source": [
    "* https://towardsdatascience.com/visualizing-the-nothing-ae6daccc9197"
   ]
  }
 ],
 "metadata": {
  "kernelspec": {
   "display_name": "Python 3",
   "language": "python",
   "name": "python3"
  },
  "language_info": {
   "codemirror_mode": {
    "name": "ipython",
    "version": 3
   },
   "file_extension": ".py",
   "mimetype": "text/x-python",
   "name": "python",
   "nbconvert_exporter": "python",
   "pygments_lexer": "ipython3",
   "version": "3.8.8"
  }
 },
 "nbformat": 4,
 "nbformat_minor": 5
}
